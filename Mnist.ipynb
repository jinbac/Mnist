{
  "nbformat": 4,
  "nbformat_minor": 0,
  "metadata": {
    "colab": {
      "name": "Mnist.ipynb",
      "provenance": [],
      "authorship_tag": "ABX9TyPhx+Kj464t0ZXw96BCNU1A",
      "include_colab_link": true
    },
    "kernelspec": {
      "name": "python3",
      "display_name": "Python 3"
    },
    "language_info": {
      "name": "python"
    }
  },
  "cells": [
    {
      "cell_type": "markdown",
      "metadata": {
        "id": "view-in-github",
        "colab_type": "text"
      },
      "source": [
        "<a href=\"https://colab.research.google.com/github/jinbac/Mnist/blob/main/Mnist.ipynb\" target=\"_parent\"><img src=\"https://colab.research.google.com/assets/colab-badge.svg\" alt=\"Open In Colab\"/></a>"
      ]
    },
    {
      "cell_type": "code",
      "metadata": {
        "id": "v6DkgsgBAK01"
      },
      "source": [
        "import tensorflow\n",
        "import matplotlib.pyplot"
      ],
      "execution_count": 1,
      "outputs": []
    },
    {
      "cell_type": "code",
      "metadata": {
        "id": "B1s5NGyeAqy9",
        "colab": {
          "base_uri": "https://localhost:8080/"
        },
        "outputId": "dd7fa58b-8b68-4288-df2c-cf324b5e2d4c"
      },
      "source": [
        "# import mnist dataset\n",
        "(TrainSet, TrainLabels), (TestSet, TestLabels) =  tensorflow.keras.datasets.mnist.load_data()"
      ],
      "execution_count": 3,
      "outputs": [
        {
          "output_type": "stream",
          "name": "stdout",
          "text": [
            "Downloading data from https://storage.googleapis.com/tensorflow/tf-keras-datasets/mnist.npz\n",
            "11493376/11490434 [==============================] - 0s 0us/step\n",
            "11501568/11490434 [==============================] - 0s 0us/step\n"
          ]
        }
      ]
    },
    {
      "cell_type": "code",
      "metadata": {
        "id": "Csay27_LBJUl"
      },
      "source": [
        "# downscall to 0-1 \n",
        "#possibly should use -1 - 1 range\n",
        "TrainSet = TrainSet / 255.\n",
        "TestSet = TestSet / 255."
      ],
      "execution_count": 4,
      "outputs": []
    },
    {
      "cell_type": "code",
      "metadata": {
        "colab": {
          "base_uri": "https://localhost:8080/",
          "height": 333
        },
        "id": "jvMHZXTjBX-V",
        "outputId": "734d07d9-3fe8-4668-8fc1-1dcbf9e2e790"
      },
      "source": [
        "#display info and image to verify dataset\n",
        "print(TrainSet.shape)\n",
        "print(TestSet.shape)\n",
        "print(TrainLabels)\n",
        "print(TestLabels)\n",
        "\n",
        "matplotlib.pyplot.imshow(TrainSet[0])\n",
        "matplotlib.pyplot.show()"
      ],
      "execution_count": 5,
      "outputs": [
        {
          "output_type": "stream",
          "name": "stdout",
          "text": [
            "(60000, 28, 28)\n",
            "(10000, 28, 28)\n",
            "[5 0 4 ... 5 6 8]\n",
            "[7 2 1 ... 4 5 6]\n"
          ]
        },
        {
          "output_type": "display_data",
          "data": {
            "image/png": "[encoded data removed]",
            "text/plain": [
              "<Figure size 432x288 with 1 Axes>"
            ]
          },
          "metadata": {
            "needs_background": "light"
          }
        }
      ]
    },
    {
      "cell_type": "code",
      "metadata": {
        "colab": {
          "base_uri": "https://localhost:8080/"
        },
        "id": "7HlnduXQCwNt",
        "outputId": "e22acfd2-9e87-4669-b44b-3c23a70534f6"
      },
      "source": [
        "# Build neural network on basic sequential model\n",
        "model = tensorflow.keras.models.Sequential() # build shell of model\n",
        "\n",
        "model.add(tensorflow.keras.layers.Flatten(input_shape = (28,28))) # flatten images into vectors \n",
        "model.add(tensorflow.keras.layers.Dense(128, activation = 'relu')) # add fully connected layer with 128 nuerons and relu activation function\n",
        "model.add(tensorflow.keras.layers.Dense(10, activation = 'softmax')) # condense information with softmax to classes 0-9 \n",
        "\n",
        "model.compile(optimizer = 'adam', loss = 'sparse_categorical_crossentropy', metrics = ['accuracy' , 'top_k_categorical_accuracy']) #compile model with adam optimizer and display accuracy\n",
        "\n",
        "model.fit(TrainSet, TrainLabels, epochs = 5)  # train models on training data for 5 epochs"
      ],
      "execution_count": 6,
      "outputs": [
        {
          "output_type": "stream",
          "name": "stdout",
          "text": [
            "Epoch 1/5\n",
            "1875/1875 [==============================] - 5s 2ms/step - loss: 0.2559 - accuracy: 0.9258 - top_k_categorical_accuracy: 0.3680\n",
            "Epoch 2/5\n",
            "1875/1875 [==============================] - 4s 2ms/step - loss: 0.1131 - accuracy: 0.9664 - top_k_categorical_accuracy: 0.3454\n",
            "Epoch 3/5\n",
            "1875/1875 [==============================] - 4s 2ms/step - loss: 0.0775 - accuracy: 0.9768 - top_k_categorical_accuracy: 0.3262\n",
            "Epoch 4/5\n",
            "1875/1875 [==============================] - 4s 2ms/step - loss: 0.0585 - accuracy: 0.9820 - top_k_categorical_accuracy: 0.3332\n",
            "Epoch 5/5\n",
            "1875/1875 [==============================] - 4s 2ms/step - loss: 0.0449 - accuracy: 0.9863 - top_k_categorical_accuracy: 0.3178\n"
          ]
        },
        {
          "output_type": "execute_result",
          "data": {
            "text/plain": [
              "<keras.callbacks.History at 0x7f2a17ffc950>"
            ]
          },
          "metadata": {},
          "execution_count": 6
        }
      ]
    },
    {
      "cell_type": "code",
      "metadata": {
        "colab": {
          "base_uri": "https://localhost:8080/"
        },
        "id": "sOMbvbhDErYj",
        "outputId": "8847f88b-0f24-4f8c-bf15-3e1a9deaefeb"
      },
      "source": [
        "# test model against test data\n",
        "TestLoss, TestAccuracy, TestTopK = model.evaluate(TestSet, TestLabels)\n",
        "print ('Test Accuracy', TestAccuracy, 'TestTopK', TestTopK)"
      ],
      "execution_count": 24,
      "outputs": [
        {
          "output_type": "stream",
          "name": "stdout",
          "text": [
            "313/313 [==============================] - 1s 1ms/step - loss: 0.0828 - accuracy: 0.9737 - top_k_categorical_accuracy: 0.2476\n",
            "Test Accuracy 0.9736999869346619 TestTopK 0.2476000040769577\n"
          ]
        }
      ]
    }
  ]
}